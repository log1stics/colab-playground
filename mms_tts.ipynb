{
  "nbformat": 4,
  "nbformat_minor": 0,
  "metadata": {
    "colab": {
      "provenance": [],
      "gpuType": "T4",
      "authorship_tag": "ABX9TyNq0Uwud81dhlaxa+5t6osE",
      "include_colab_link": true
    },
    "kernelspec": {
      "name": "python3",
      "display_name": "Python 3"
    },
    "language_info": {
      "name": "python"
    },
    "accelerator": "GPU",
    "gpuClass": "standard"
  },
  "cells": [
    {
      "cell_type": "markdown",
      "metadata": {
        "id": "view-in-github",
        "colab_type": "text"
      },
      "source": [
        "<a href=\"https://colab.research.google.com/github/log1stics/colab-playground/blob/main/mms_tts.ipynb\" target=\"_parent\"><img src=\"https://colab.research.google.com/assets/colab-badge.svg\" alt=\"Open In Colab\"/></a>"
      ]
    },
    {
      "cell_type": "markdown",
      "source": [
        "- Project  \n",
        "https://ai.facebook.com/blog/multilingual-model-speech-recognition/\n",
        "\n",
        "- Document  \n",
        "https://github.com/facebookresearch/fairseq/blob/main/examples/mms/README.md#tts-1\n",
        "\n",
        "- Language Coverage  \n",
        "https://dl.fbaipublicfiles.com/mms/misc/language_coverage_mms.html"
      ],
      "metadata": {
        "id": "Hljc_AONQaH6"
      }
    },
    {
      "cell_type": "code",
      "execution_count": null,
      "metadata": {
        "id": "DjO9nKHi-xVw"
      },
      "outputs": [],
      "source": [
        "#@title Install\n",
        "\n",
        "# Install VITS\n",
        "!git clone https://github.com/jaywalnut310/vits\n",
        "%cd /content/vits\n",
        "\n",
        "# removal of version specification\n",
        "with open('requirements.txt', 'r') as f:\n",
        "    lines = f.readlines()\n",
        "lines = [line.split('==')[0] + '\\n' for line in lines]\n",
        "with open('requirements.txt', 'w') as f:\n",
        "    f.writelines(lines)\n",
        "\n",
        "!pip install -r requirements.txt\n",
        "\n",
        "%cd monotonic_align\n",
        "!mkdir monotonic_align\n",
        "!python setup.py build_ext --inplace\n",
        "\n",
        "\n",
        "# Install Massively Multilingual Speech (MMS) project\n",
        "%cd /content\n",
        "!git clone --depth 1 https://github.com/pytorch/fairseq\n",
        "%cd fairseq\n",
        "\n",
        "!wget https://dl.fbaipublicfiles.com/mms/tts/eng.tar.gz # English (eng)\n",
        "!tar -xzvf eng.tar.gz"
      ]
    },
    {
      "cell_type": "code",
      "source": [
        "#@title Inference\n",
        "!PYTHONPATH=$PYTHONPATH:../vits python examples/mms/tts/infer.py --model-dir eng \\\n",
        "--wav ./example.wav --txt \"Expanding the language coverage of speech technology \\\n",
        "has the potential to improve access to information for many more people\"\n",
        "\n",
        "from IPython.display import Audio\n",
        "Audio(\"./example.wav\")"
      ],
      "metadata": {
        "id": "k7VTwH6M_gb9"
      },
      "execution_count": null,
      "outputs": []
    }
  ]
}